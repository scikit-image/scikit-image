{
 "cells": [
  {
   "cell_type": "code",
   "execution_count": 3,
   "metadata": {
    "collapsed": false
   },
   "outputs": [
    {
     "data": {
      "text/plain": [
       "['',\n",
       " '/Users/ferradans/anaconda3/lib/python35.zip',\n",
       " '/Users/ferradans/anaconda3/lib/python3.5',\n",
       " '/Users/ferradans/anaconda3/lib/python3.5/plat-darwin',\n",
       " '/Users/ferradans/anaconda3/lib/python3.5/lib-dynload',\n",
       " '/Users/ferradans/anaconda3/lib/python3.5/site-packages/Sphinx-1.3.5-py3.5.egg',\n",
       " '/Users/ferradans/anaconda3/lib/python3.5/site-packages/setuptools-20.3-py3.5.egg',\n",
       " '/Users/ferradans/anaconda3/lib/python3.5/site-packages',\n",
       " '/Users/ferradans/anaconda3/lib/python3.5/site-packages/aeosa',\n",
       " '/Users/ferradans/anaconda3/lib/python3.5/site-packages/IPython/extensions',\n",
       " '/Users/ferradans/.ipython',\n",
       " '/Users/ferradans/Documents/Research/scikit-image/',\n",
       " '/Users/ferradans/Documents/Research/scikit-image/']"
      ]
     },
     "execution_count": 3,
     "metadata": {},
     "output_type": "execute_result"
    }
   ],
   "source": [
    "import sys\n",
    "sys.path\n"
   ]
  },
  {
   "cell_type": "code",
   "execution_count": null,
   "metadata": {
    "collapsed": false
   },
   "outputs": [],
   "source": [
    "import skimage\n",
    "print(skimage.__file__)"
   ]
  },
  {
   "cell_type": "code",
   "execution_count": null,
   "metadata": {
    "collapsed": false
   },
   "outputs": [],
   "source": [
    "import skimage\n",
    "\n",
    "%run ./doc/examples/filters/plot_multiresolution_filterbank.py"
   ]
  }
 ],
 "metadata": {
  "kernelspec": {
   "display_name": "Python 3",
   "language": "python",
   "name": "python3"
  },
  "language_info": {
   "codemirror_mode": {
    "name": "ipython",
    "version": 3
   },
   "file_extension": ".py",
   "mimetype": "text/x-python",
   "name": "python",
   "nbconvert_exporter": "python",
   "pygments_lexer": "ipython3",
   "version": "3.5.2"
  }
 },
 "nbformat": 4,
 "nbformat_minor": 0
}
