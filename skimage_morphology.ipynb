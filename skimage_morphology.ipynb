{
 "metadata": {
  "name": "skimage_morphology"
 },
 "nbformat": 3,
 "nbformat_minor": 0,
 "worksheets": [
  {
   "cells": [
    {
     "cell_type": "code",
     "collapsed": false,
     "input": [
      "\"\"\"\n",
      "=======================\n",
      "Morphological Filtering\n",
      "=======================\n",
      "\n",
      "Morphological image processing is a collection of non-linear operations related to the shape or morphology of features in an image, such as boundaries, skeletons, etc. Morphological operations rely only on the relative ordering of pixel values, not on their numerical values, and therefore are especially suited to the processing of binary images. It is based on set theory and makes use of logical operations to carry out the functionality and hence are less computationally intensive and easy to implement. In any given technique, we probe an image with a small shape or template called a structuring element. The structuring element is positioned at all possible locations in the image and it is compared with the corresponding neighbourhood of pixels. Neighborhood of a pixel is defined as all the pixels with a value 1 in the structuring element.\n",
      "\n",
      "In this document we outline the following basic morphological operations :\n",
      "\n",
      "1. Erosion\n",
      "2. Dilation\n",
      "3. Opening\n",
      "4. Closing\n",
      "5. White Tophat\n",
      "6. Black Tophat\n",
      "7. Skeletonize\n",
      "8. Convex Hull\n",
      "\n",
      "Additional Resources :\n",
      "----------------------\n",
      "\n",
      "1. Provides a nice understanding of the most basic operations involved in morphological processing, i.e. erosion and dilation :  http://www.mathworks.in/help/images/morphology-fundamentals-dilation-and-erosion.html#f18-14379\n",
      "2. http://www.cs.auckland.ac.nz/courses/compsci773s1c/lectures/ImageProcessing-html/topic4.htm\n",
      "3. For an insight into the mathematical algorithms for each function : http://en.wikipedia.org/wiki/Mathematical_morphology\n",
      "\n",
      "Importing images\n",
      "================\n",
      "\"\"\"\n",
      "\n",
      "# We will be looking at the following techniques to begin with\n",
      "from skimage.morphology import erosion, dilation, opening, closing, white_tophat, black_tophat, skeletonize, convex_hull, convex_hull_image\n",
      "\n",
      "# Importing 'square' and 'disk' modules for creating BINARY structuring elements\n",
      "from skimage.morphology import square as sq\n",
      "from skimage.morphology import disk\n",
      "\n",
      "# Skimage supports NumPy data types and takes in images as type 'ndarray'. matplotlib.pyplot is a python library for providing MATLAB-like functionality, hence the same function names. E.g: imshow\n",
      "import matplotlib.pyplot as plt\n",
      "import numpy as np\n",
      "\n",
      "# Importing the '_io' module for reading, writing and showing images. Note thatin skimage, all files having the same name as the folder have been renamed with an '_'. Hence '_io'\n",
      "import skimage.io._io as io\n",
      "from skimage.data import load, data_dir\n",
      "from skimage.util import img_as_ubyte\n",
      "\n",
      "# Importing images"
     ],
     "language": "python",
     "metadata": {},
     "outputs": []
    },
    {
     "cell_type": "markdown",
     "metadata": {},
     "source": [
      "There are essentially 2 ways for importing images for use with skimage. They are as follows :\n",
      "\n",
      "1. Using the plt.imread() to read the images as a *numpy.ndarray* data type\n",
      "2. Using the skimage modules like 'imread', 'imshow' etc provided under the '/skimage/io/_io.py'\n",
      "\n",
      "Note that plt.imread() will read the image, a grey-scale image as a 3D array, whereas with io.imread() there is a parameter 'as_grey=True' for reading it as a 2D array and using 'img_as_ubyte()', can be converted to type : *numpy.ndarray* with *uint8* element. This is the input array for the morphological functions.\n",
      "\n",
      "The following checks should be made for running the morphological functions :\n",
      "\n",
      "Image :\n",
      "\n",
      "1. Type : numpy.ndarray\n",
      "2. Data type : uint8\n",
      "3. 2D\n",
      "\n",
      "Structuring Element :\n",
      "\n",
      "1. Type : Binary or boolean"
     ]
    },
    {
     "cell_type": "heading",
     "level": 3,
     "metadata": {},
     "source": [
      "1. Importing & displaying using plt.imread() and plt.imshow()"
     ]
    },
    {
     "cell_type": "code",
     "collapsed": false,
     "input": [
      "i_f = plt.imread('/Users/chintak/Repositories/scikit-image/skimage/data/bw_text.png')\n",
      "# Type : numpy.ndarray, dtype : float32, dimensions : 3\n",
      "#type(i_f)\n",
      "#i_f\n",
      "#ndim(i_f)\n",
      "# Slicing\n",
      "i_f2 = i_f[:,:,0]\n",
      "# To convert to uint8 data type\n",
      "i = img_as_ubyte(i_f2)\n",
      "\n",
      "# To display this image\n",
      "plt.imshow(i, cmap=plt.cm.gray)  # For showing gray-scale images\n",
      "#ndim(i)\n",
      "plt.show()"
     ],
     "language": "python",
     "metadata": {},
     "outputs": []
    },
    {
     "cell_type": "heading",
     "level": 3,
     "metadata": {},
     "source": [
      "2. Importing & displaying using io.imread() and io.imshow()"
     ]
    },
    {
     "cell_type": "code",
     "collapsed": false,
     "input": [
      "phantom = img_as_ubyte(io.imread('/Users/chintak/Repositories/scikit-image/skimage/data/phantom.png', as_grey=True))\n",
      "# 'as_grey=True' ensures that the image is taken as a 2D rather than a 3D array with equal R,G,B values for a point\n",
      "io.imshow(phantom)\n",
      "plt.show()"
     ],
     "language": "python",
     "metadata": {},
     "outputs": []
    },
    {
     "cell_type": "heading",
     "level": 2,
     "metadata": {},
     "source": [
      "EROSION"
     ]
    },
    {
     "cell_type": "markdown",
     "metadata": {},
     "source": [
      "Usage : erosion(image, selem, out=None, shift_x=False, shift_y=False)\n",
      "\n",
      "Return greyscale morphological erosion of an image.\n",
      "\n",
      "Morphological erosion sets a pixel at (i,j) to the **minimum over all pixels\n",
      "in the neighborhood centered at (i,j)**. Erosion shrinks bright regions and\n",
      "enlarges dark regions.\n",
      "\n",
      "Parameters\n",
      "----------\n",
      "image : ndarray\n",
      "    Image array.\n",
      "selem : ndarray\n",
      "    The neighborhood expressed as a 2-D array of 1's and 0's.\n",
      "out : ndarray\n",
      "    The array to store the result of the morphology. If None is\n",
      "    passed, a new array will be allocated.\n",
      "shift_x, shift_y : bool\n",
      "    shift structuring element about center point. This only affects\n",
      "    eccentric structuring elements (i.e. selem with even numbered sides).\n",
      "\n",
      "Returns\n",
      "-------\n",
      "eroded : uint8 array\n",
      "    The result of the morphological erosion."
     ]
    },
    {
     "cell_type": "code",
     "collapsed": false,
     "input": [
      "# We will be working with phantom.png for this function.\n",
      "# First defining the structuring element as a disk using disk()\n",
      "#selem = disk(3);\n",
      "selem = disk(6);\n",
      "#selem = disk(10);\n",
      "eroded = erosion(phantom, selem)\n",
      "\n",
      "# Displaying the original and eroded image \n",
      "# 'plt.figure() can be used for showing multiple images together\n",
      "plt.figure(1) \n",
      "io.imshow(phantom)\n",
      "plt.figure(2)\n",
      "io.imshow(eroded)\n",
      "plt.show()"
     ],
     "language": "python",
     "metadata": {},
     "outputs": []
    },
    {
     "cell_type": "markdown",
     "metadata": {},
     "source": [
      "**Comments** : \n",
      "\n",
      "See how the white boundary of the image disappers or gets eroded as we increse the size of the disk. \n",
      "Also notice the increase in size of the two black ellipses in the center and the disappearance of the 3-4 light grey patches in the lower part of the image."
     ]
    },
    {
     "cell_type": "heading",
     "level": 2,
     "metadata": {},
     "source": [
      "DILATION"
     ]
    },
    {
     "cell_type": "markdown",
     "metadata": {},
     "source": [
      "Documentation :\n",
      "\n",
      "Definition: dilation(image, selem, out=None, shift_x=False, shift_y=False)\n",
      "Docstring:\n",
      "Return greyscale morphological dilation of an image.\n",
      "\n",
      "Morphological dilation sets a pixel at (i,j) to the **maximum over all pixels\n",
      "in the neighborhood centered at (i,j)**. Dilation enlarges bright regions\n",
      "and shrinks dark regions.\n",
      "\n",
      "Parameters\n",
      "----------\n",
      "\n",
      "image : ndarray\n",
      "    Image array.\n",
      "selem : ndarray\n",
      "    The neighborhood expressed as a 2-D array of 1's and 0's.\n",
      "out : ndarray\n",
      "    The array to store the result of the morphology. If None, is\n",
      "    passed, a new array will be allocated.\n",
      "shift_x, shift_y : bool\n",
      "    shift structuring element about center point. This only affects\n",
      "    eccentric structuring elements (i.e. selem with even numbered sides).\n",
      "\n",
      "Returns\n",
      "-------\n",
      "dilated : uint8 array\n",
      "    The result of the morphological dilation."
     ]
    },
    {
     "cell_type": "code",
     "collapsed": false,
     "input": [
      "# We will be working with phantom.png to show difference between erosion and dilation.\n",
      "# First defining the structuring element as a disk using disk()\n",
      "#selem = disk(3);\n",
      "selem = disk(6);\n",
      "#selem = disk(10);\n",
      "dilate = dilation(phantom, selem)\n",
      "\n",
      "# Displaying the original and eroded image \n",
      "# 'plt.figure() can be used for showing multiple images together\n",
      "plt.figure(1) \n",
      "io.imshow(phantom)\n",
      "plt.figure(2)\n",
      "io.imshow(dilate)\n",
      "plt.show()"
     ],
     "language": "python",
     "metadata": {},
     "outputs": []
    },
    {
     "cell_type": "markdown",
     "metadata": {},
     "source": [
      "**Comments** : \n",
      "\n",
      "See how the white boundary of the image thickens or gets dialted as we increse the size of the disk. \n",
      "Also notice the decrease in size of the two black ellipses in the centre, with the thickening of the light grey circle in the center and the 3-4 patches in the lower part of the image."
     ]
    },
    {
     "cell_type": "heading",
     "level": 2,
     "metadata": {},
     "source": [
      "OPENING"
     ]
    },
    {
     "cell_type": "markdown",
     "metadata": {},
     "source": [
      "Documentation :\n",
      "\n",
      "Definition: opening(image, selem, out=None)\n",
      "Docstring:\n",
      "Return greyscale morphological opening of an image.\n",
      "\n",
      "The morphological opening on an image is defined as an **erosion followed by\n",
      "a dilation**. Opening can remove small bright spots (i.e. \"salt\") and connect\n",
      "small dark cracks. This tends to \"open\" up (dark) gaps between (bright)\n",
      "features.\n",
      "\n",
      "Parameters\n",
      "----------\n",
      "image : ndarray\n",
      "    Image array.\n",
      "selem : ndarray\n",
      "    The neighborhood expressed as a 2-D array of 1's and 0's.\n",
      "out : ndarray\n",
      "    The array to store the result of the morphology. If None\n",
      "    is passed, a new array will be allocated.\n",
      "\n",
      "Returns\n",
      "-------\n",
      "opening : uint8 array\n",
      "    The result of the morphological opening."
     ]
    },
    {
     "cell_type": "code",
     "collapsed": false,
     "input": [
      "# We will be working with phantom.png for this function.\n",
      "# First defining the structuring element as a disk using disk()\n",
      "#selem = disk(3);\n",
      "selem = disk(6);\n",
      "#selem = disk(10);\n",
      "opened = opening(phantom, selem)\n",
      "\n",
      "# Displaying the original and eroded image \n",
      "# 'plt.figure() can be used for showing multiple images together\n",
      "plt.figure(1) \n",
      "io.imshow(phantom)\n",
      "plt.figure(2)\n",
      "io.imshow(opened)\n",
      "plt.show()"
     ],
     "language": "python",
     "metadata": {},
     "outputs": []
    },
    {
     "cell_type": "markdown",
     "metadata": {},
     "source": [
      "**Comments** : \n",
      "\n",
      "Since 'opening' an image is equivalent to *erosion followed by dilation*, white or lighter portions in the image which are smaller than the structuring element tend to be removed, just as in erosion along with the increase in thickness of black portions and thinning of larger (than structing elements) white portions. But dilation reverses this effect and hence as we can see in the image, the central 2 dark ellipses and the circular lighter portion retain their thickness but the lighter patchs in the bottom get completely eroded."
     ]
    },
    {
     "cell_type": "heading",
     "level": 2,
     "metadata": {},
     "source": [
      "CLOSING"
     ]
    },
    {
     "cell_type": "markdown",
     "metadata": {},
     "source": [
      "Documentation :\n",
      "\n",
      "Definition: closing(image, selem, out=None)\n",
      "Docstring:\n",
      "Return greyscale morphological closing of an image.\n",
      "\n",
      "The morphological closing on an image is defined as a **dilation followed by\n",
      "an erosion**. Closing can remove small dark spots (i.e. \"pepper\") and connect\n",
      "small bright cracks. This tends to \"close\" up (dark) gaps between (bright)\n",
      "features.\n",
      "\n",
      "Parameters\n",
      "----------\n",
      "image : ndarray\n",
      "    Image array.\n",
      "selem : ndarray\n",
      "    The neighborhood expressed as a 2-D array of 1's and 0's.\n",
      "out : ndarray\n",
      "    The array to store the result of the morphology. If None,\n",
      "    is passed, a new array will be allocated.\n",
      "\n",
      "Returns\n",
      "-------\n",
      "closing : uint8 array\n",
      "    The result of the morphological closing."
     ]
    },
    {
     "cell_type": "code",
     "collapsed": false,
     "input": [
      "# We will be working with phantom.png for this function.\n",
      "# First defining the structuring element as a disk using disk()\n",
      "#selem = disk(3);\n",
      "selem = disk(6);\n",
      "#selem = disk(10);\n",
      "phantom1 = phantom\n",
      "phantom[300:310, 200:210] = 0\n",
      "closed = closing(phantom1, selem)\n",
      "\n",
      "# Displaying the original and eroded image \n",
      "# 'plt.figure() can be used for showing multiple images together\n",
      "plt.figure(1) \n",
      "io.imshow(phantom1)\n",
      "plt.figure(2)\n",
      "io.imshow(closed)\n",
      "plt.show()"
     ],
     "language": "python",
     "metadata": {},
     "outputs": []
    },
    {
     "cell_type": "markdown",
     "metadata": {},
     "source": [
      "**Comments** : \n",
      "\n",
      "Since 'closing' an image is equivalent to *dilation followed by erosion*, the small black 10X10 pixel wide square introduced has been removed and the -34 white ellipses at the bottom get connected, just as is expected after dilation along with the thinning of larger (than structing elements) black portions. But erosion reverses this effect and hence as we can see in the image, the central 2 dark ellipses and the circular lighter portion retain their thickness but the all black square is completely removed. But note that the white patches at the bottom remain connected even after erosion."
     ]
    },
    {
     "cell_type": "heading",
     "level": 2,
     "metadata": {},
     "source": [
      "WHITE TOPHAT"
     ]
    },
    {
     "cell_type": "markdown",
     "metadata": {},
     "source": [
      "Documentation :\n",
      "\n",
      "Definition: white_tophat(image, selem, out=None)\n",
      "Docstring:\n",
      "Return white top hat of an image.\n",
      "\n",
      "The white top hat of an image is defined as the **image minus its\n",
      "morphological opening**. This operation returns the bright spots of the image\n",
      "that are smaller than the structuring element.\n",
      "\n",
      "Parameters\n",
      "----------\n",
      "image : ndarray\n",
      "    Image array.\n",
      "selem : ndarray\n",
      "    The neighborhood expressed as a 2-D array of 1's and 0's.\n",
      "out : ndarray\n",
      "    The array to store the result of the morphology. If None\n",
      "    is passed, a new array will be allocated.\n",
      "\n",
      "Returns\n",
      "-------\n",
      "opening : uint8 array\n",
      "    The result of the morphological white top hat."
     ]
    },
    {
     "cell_type": "code",
     "collapsed": false,
     "input": [
      "# We will be working with phantom.png for this function.\n",
      "# First defining the structuring element as a disk using disk()\n",
      "#selem = disk(3);\n",
      "selem = disk(5);\n",
      "#selem = disk(10);\n",
      "phantom[150:160, 200:210] = 255\n",
      "w_tophat = white_tophat(phantom, selem)\n",
      "\n",
      "# Displaying the original and eroded image \n",
      "# 'plt.figure() can be used for showing multiple images together\n",
      "plt.figure(1) \n",
      "io.imshow(phantom)\n",
      "plt.figure(2)\n",
      "io.imshow(w_tophat)\n",
      "#plt.figure(3)\n",
      "#io.imshow(opening(phantom, selem))\n",
      "plt.show()"
     ],
     "language": "python",
     "metadata": {},
     "outputs": []
    },
    {
     "cell_type": "markdown",
     "metadata": {},
     "source": [
      "**Comments** : \n",
      "\n",
      "This technique is used to locate the bright spots in an image which are smaller than the size of the structuring element. As can be seen, the 10X10 pixel wide white square and a part of the white boundary are highlighted since they are smaller in size as compared to the disk which is of radius 5, i.e. 10 pixels wide. If the radius is decreased to 4, we can see that a center of the square is removed and only the corners are visible, since diagonals are longer than sides."
     ]
    },
    {
     "cell_type": "heading",
     "level": 2,
     "metadata": {},
     "source": [
      "BLACK TOPHAT"
     ]
    },
    {
     "cell_type": "markdown",
     "metadata": {},
     "source": [
      "Documentation :\n",
      "\n",
      "Definition: black_tophat(image, selem, out=None)\n",
      "Docstring:\n",
      "Return black top hat of an image.\n",
      "\n",
      "The black top hat of an image is defined as its morphological **closing minus\n",
      "the original image**. This operation returns the *dark spots of the image that\n",
      "are smaller than the structuring element*. Note that dark spots in the\n",
      "original image are bright spots after the black top hat.\n",
      "\n",
      "Parameters\n",
      "----------\n",
      "image : ndarray\n",
      "    Image array.\n",
      "selem : ndarray\n",
      "    The neighborhood expressed as a 2-D array of 1's and 0's.\n",
      "out : ndarray\n",
      "    The array to store the result of the morphology. If None\n",
      "    is passed, a new array will be allocated.\n",
      "\n",
      "Returns\n",
      "-------\n",
      "opening : uint8 array\n",
      "   The result of the black top filter."
     ]
    },
    {
     "cell_type": "code",
     "collapsed": false,
     "input": [
      "# We will be working with phantom.png for this function.\n",
      "# First defining the structuring element as a disk using disk()\n",
      "#selem = disk(3);\n",
      "selem = disk(5);\n",
      "#selem = disk(10);\n",
      "phantom[150:160, 200:210] = 255\n",
      "b_tophat = black_tophat(phantom, selem)\n",
      "\n",
      "# Displaying the original and eroded image \n",
      "# 'plt.figure() can be used for showing multiple images together\n",
      "plt.figure(1) \n",
      "io.imshow(phantom)\n",
      "plt.figure(2)\n",
      "io.imshow(b_tophat)\n",
      "#plt.figure(3)\n",
      "#io.imshow(opening(phantom, selem))\n",
      "plt.show()"
     ],
     "language": "python",
     "metadata": {},
     "outputs": []
    },
    {
     "cell_type": "markdown",
     "metadata": {},
     "source": [
      "**Comments** : \n",
      "\n",
      "This technique is used to locate the dark spots in an image which are smaller than the size of the structuring element. As can be seen, the 10X10 pixel wide black square is highlighted since it is smaller or equal in size as compared to the disk which is of radius 5, i.e. 10 pixels wide. If the radius is decreased to 4, we can see that a center of the square is removed and only the corners are visible, since diagonals are longer than sides."
     ]
    },
    {
     "cell_type": "markdown",
     "metadata": {},
     "source": [
      "Duality\n",
      "-------\n",
      "\n",
      "1. Erosion <-> Dilation\n",
      "2. Opening <-> Closing\n",
      "3. White Tophat <-> Black Tophat"
     ]
    },
    {
     "cell_type": "heading",
     "level": 2,
     "metadata": {},
     "source": [
      "SKELETONIZE"
     ]
    },
    {
     "cell_type": "markdown",
     "metadata": {},
     "source": [
      "Documentation :\n",
      "\n",
      "Definition: skeletonize(image)\n",
      "Docstring:\n",
      "Return the skeleton of a **binary image**.\n",
      "\n",
      "Thinning is used to reduce each connected component in a binary image\n",
      "to a **single-pixel wide skeleton**.\n",
      "\n",
      "Parameters\n",
      "----------\n",
      "image : numpy.ndarray\n",
      "    A binary image containing the objects to be skeletonized. '1'\n",
      "    represents foreground, and '0' represents background. It\n",
      "    also accepts arrays of boolean values where True is foreground.\n",
      "\n",
      "Returns\n",
      "-------\n",
      "skeleton : ndarray\n",
      "    A matrix containing the thinned image.\n",
      "\n",
      "See also\n",
      "--------\n",
      "medial_axis\n",
      "\n",
      "Notes\n",
      "-----\n",
      "The algorithm [1] works by making successive passes of the image,\n",
      "removing pixels on object borders. This continues until no\n",
      "more pixels can be removed.  The image is correlated with a\n",
      "mask that assigns each pixel a number in the range [0...255]\n",
      "corresponding to each possible pattern of its 8 neighbouring\n",
      "pixels. A look up table is then used to assign the pixels a\n",
      "value of 0, 1, 2 or 3, which are selectively removed during\n",
      "the iterations.\n",
      "\n",
      "Note that this algorithm will give different results than a\n",
      "medial axis transform, which is also often referred to as\n",
      "\"skeletonization\".\n",
      "\n",
      "References\n",
      "----------\n",
      ".. [1] A fast parallel algorithm for thinning digital patterns,\n",
      "   T. Y. ZHANG and C. Y. SUEN, Communications of the ACM,\n",
      "   March 1984, Volume 27, Number 3"
     ]
    },
    {
     "cell_type": "code",
     "collapsed": false,
     "input": [
      "# For this we will use ip_text.gif\n",
      "text = img_as_ubyte(io.imread('/Users/chintak/Repositories/scikit-image/skimage/data/ip_text.gif', as_grey=True)).astype(bool)\n",
      "skeleton = skeletonize(text)\n",
      "\n",
      "# Displaying the original image and the skeletonized image\n",
      "plt.figure(1)\n",
      "io.imshow(text)\n",
      "plt.figure(2)\n",
      "io.imshow(skeleton)\n",
      "plt.show()"
     ],
     "language": "python",
     "metadata": {},
     "outputs": []
    },
    {
     "cell_type": "markdown",
     "metadata": {},
     "source": [
      "**Comments** : \n",
      "\n",
      "As the name suggests, this technique is used to thin the image to 1-pixel wide skeleton by applying thinning successively."
     ]
    },
    {
     "cell_type": "heading",
     "level": 2,
     "metadata": {},
     "source": [
      "CONVEX HULL"
     ]
    },
    {
     "cell_type": "markdown",
     "metadata": {},
     "source": [
      "Documentation :\n",
      "\n",
      "Definition: convex_hull_image(image)\n",
      "Docstring:\n",
      "Compute the convex hull image of a **binary image**.\n",
      "\n",
      "The convex hull is the **set of pixels included in the smallest convex\n",
      "polygon that surround all white pixels in the input image**.\n",
      "\n",
      "Parameters\n",
      "----------\n",
      "image : ndarray\n",
      "    Binary input image.  This array is cast to bool before processing.\n",
      "\n",
      "Returns\n",
      "-------\n",
      "hull : ndarray of uint8\n",
      "    Binary image with pixels in convex hull set to 255.\n",
      "\n",
      "References\n",
      "----------\n",
      ".. [1] http://blogs.mathworks.com/steve/2011/10/04/binary-image-convex-hull-algorithm-notes/"
     ]
    },
    {
     "cell_type": "code",
     "collapsed": false,
     "input": [
      "# For this we will use chicken.png\n",
      "rooster = img_as_ubyte(io.imread('/Users/chintak/Repositories/scikit-image/skimage/data/rooster.png', as_grey=True)).astype(bool)\n",
      "hull1 = convex_hull_image(rooster)\n",
      "rooster1 = np.copy(rooster)\n",
      "rooster1[350:355, 90:95] = 1\n",
      "hull2 = convex_hull_image(rooster1)\n",
      "\n",
      "# Displaying the original image and the skeletonized image\n",
      "plt.figure(1)\n",
      "io.imshow(rooster)\n",
      "plt.figure(2)\n",
      "io.imshow(rooster1)\n",
      "plt.figure(3)\n",
      "io.imshow(hull1)\n",
      "plt.figure(4)\n",
      "io.imshow(hull2)\n",
      "plt.show()"
     ],
     "language": "python",
     "metadata": {},
     "outputs": []
    }
   ],
   "metadata": {}
  }
 ]
}